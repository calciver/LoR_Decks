{
  "nbformat": 4,
  "nbformat_minor": 0,
  "metadata": {
    "colab": {
      "name": "Fully Functional Legends of Runeterra Deck Encoder/Decoder.ipynb",
      "provenance": [],
      "collapsed_sections": [],
      "authorship_tag": "ABX9TyOUvdl0oBMAplHKOEYlRcml",
      "include_colab_link": true
    },
    "kernelspec": {
      "name": "python3",
      "display_name": "Python 3"
    }
  },
  "cells": [
    {
      "cell_type": "markdown",
      "metadata": {
        "id": "view-in-github",
        "colab_type": "text"
      },
      "source": [
        "<a href=\"https://colab.research.google.com/github/calciver/LoR_Decks/blob/master/Fully_Functional_Legends_of_Runeterra_Deck_Encoder_Decoder.ipynb\" target=\"_parent\"><img src=\"https://colab.research.google.com/assets/colab-badge.svg\" alt=\"Open In Colab\"/></a>"
      ]
    },
    {
      "cell_type": "code",
      "metadata": {
        "id": "cixzjbiOrsRL",
        "colab_type": "code",
        "colab": {
          "base_uri": "https://localhost:8080/",
          "height": 119
        },
        "outputId": "13bdac94-9537-48d5-f734-707db6f62704"
      },
      "source": [
        "!git clone https://github.com/calciver/LoR_Decks.git"
      ],
      "execution_count": 1,
      "outputs": [
        {
          "output_type": "stream",
          "text": [
            "Cloning into 'LoR_Decks'...\n",
            "remote: Enumerating objects: 56, done.\u001b[K\n",
            "remote: Counting objects:   1% (1/56)\u001b[K\rremote: Counting objects:   3% (2/56)\u001b[K\rremote: Counting objects:   5% (3/56)\u001b[K\rremote: Counting objects:   7% (4/56)\u001b[K\rremote: Counting objects:   8% (5/56)\u001b[K\rremote: Counting objects:  10% (6/56)\u001b[K\rremote: Counting objects:  12% (7/56)\u001b[K\rremote: Counting objects:  14% (8/56)\u001b[K\rremote: Counting objects:  16% (9/56)\u001b[K\rremote: Counting objects:  17% (10/56)\u001b[K\rremote: Counting objects:  19% (11/56)\u001b[K\rremote: Counting objects:  21% (12/56)\u001b[K\rremote: Counting objects:  23% (13/56)\u001b[K\rremote: Counting objects:  25% (14/56)\u001b[K\rremote: Counting objects:  26% (15/56)\u001b[K\rremote: Counting objects:  28% (16/56)\u001b[K\rremote: Counting objects:  30% (17/56)\u001b[K\rremote: Counting objects:  32% (18/56)\u001b[K\rremote: Counting objects:  33% (19/56)\u001b[K\rremote: Counting objects:  35% (20/56)\u001b[K\rremote: Counting objects:  37% (21/56)\u001b[K\rremote: Counting objects:  39% (22/56)\u001b[K\rremote: Counting objects:  41% (23/56)\u001b[K\rremote: Counting objects:  42% (24/56)\u001b[K\rremote: Counting objects:  44% (25/56)\u001b[K\rremote: Counting objects:  46% (26/56)\u001b[K\rremote: Counting objects:  48% (27/56)\u001b[K\rremote: Counting objects:  50% (28/56)\u001b[K\rremote: Counting objects:  51% (29/56)\u001b[K\rremote: Counting objects:  53% (30/56)\u001b[K\rremote: Counting objects:  55% (31/56)\u001b[K\rremote: Counting objects:  57% (32/56)\u001b[K\rremote: Counting objects:  58% (33/56)\u001b[K\rremote: Counting objects:  60% (34/56)\u001b[K\rremote: Counting objects:  62% (35/56)\u001b[K\rremote: Counting objects:  64% (36/56)\u001b[K\rremote: Counting objects:  66% (37/56)\u001b[K\rremote: Counting objects:  67% (38/56)\u001b[K\rremote: Counting objects:  69% (39/56)\u001b[K\rremote: Counting objects:  71% (40/56)\u001b[K\rremote: Counting objects:  73% (41/56)\u001b[K\rremote: Counting objects:  75% (42/56)\u001b[K\rremote: Counting objects:  76% (43/56)\u001b[K\rremote: Counting objects:  78% (44/56)\u001b[K\rremote: Counting objects:  80% (45/56)\u001b[K\rremote: Counting objects:  82% (46/56)\u001b[K\rremote: Counting objects:  83% (47/56)\u001b[K\rremote: Counting objects:  85% (48/56)\u001b[K\rremote: Counting objects:  87% (49/56)\u001b[K\rremote: Counting objects:  89% (50/56)\u001b[K\rremote: Counting objects:  91% (51/56)\u001b[K\rremote: Counting objects:  92% (52/56)\u001b[K\rremote: Counting objects:  94% (53/56)\u001b[K\rremote: Counting objects:  96% (54/56)\u001b[K\rremote: Counting objects:  98% (55/56)\u001b[K\rremote: Counting objects: 100% (56/56)\u001b[K\rremote: Counting objects: 100% (56/56), done.\u001b[K\n",
            "remote: Compressing objects: 100% (39/39), done.\u001b[K\n",
            "remote: Total 56 (delta 15), reused 43 (delta 10), pack-reused 0\u001b[K\n",
            "Unpacking objects: 100% (56/56), done.\n"
          ],
          "name": "stdout"
        }
      ]
    },
    {
      "cell_type": "markdown",
      "metadata": {
        "id": "yWscwfrlr24C",
        "colab_type": "text"
      },
      "source": [
        "# What decks do you want to build today?"
      ]
    },
    {
      "cell_type": "code",
      "metadata": {
        "id": "GYLD6DoTrvWf",
        "colab_type": "code",
        "colab": {}
      },
      "source": [
        "sample_decks = {}\n",
        "sample_decks['Kinkou Elusives'] = \"CEBAEAIBAQLAWAICAIDASDARCULSQLBSHEAACAIBAIYQ\" #@param {type:\"string\"}\n",
        "sample_decks['Spider Aggro'] = \"CEBAIAIFCYYTKOAHAEBQOCIMB4MSQNYCAEAQKJACAEBRWJQBAEAQGAQ\" #@param {type:\"string\"}\n",
        "sample_decks['Mageseeker Lux'] = \"CEBAMAIEBYIBWHZUHADQCAA2EAQSQKRPGAAACAIBAAUQ\" #@param {type:\"string\"}\n",
        "sample_decks['Bannerman Zed'] = \"CEBACAICBEGACAABAYEQUCYVCYNB2JZLGIAACAIBAAJA\" #@param {type:\"string\"}\n",
        "sample_decks['Spooky Karma'] = \"CEBAKAIFAQOSQLRWAUAQEAQDFE2TSAQBAEBDCAYBAUHRIOABAIAQKAYT\" #@param {type:\"string\"}\n",
        "sample_decks['Ephemeral Midrange'] = \"CEBAGAICAMETSBQBAUCBIFRKGAYQEAYBAUGCQOADAEBAEBQYAEAQCARR\" #@param {type:\"string\"}\n",
        "sample_decks['Ezreal Combo'] = \"CEBAKAIBAMEAWHRKA4AQIGY7EQVTCNB2AEAQCAJEAIAQCBABAEAQCGI\" #@param {type:\"string\"}\n",
        "sample_decks['Discard Aggro'] = \"CEBAGAIDBQKCOBYBAQGBYJZIFU2DMAQBAEBRSAYBAQAQ2JQBAIAQGEZI\" #@param {type:\"string\"}\n",
        "sample_decks['Kalista Lucian Midrange'] = \"CEBAIAIAB4LBUNQHAECR4IBIFEYDCOABAIAQKCYPAEBQCBIWDEQQ\" #@param {type:\"string\"}\n",
        "sample_decks['Lux Control'] = \"CEBAIAIACEKSAKQIAEBAEDBFEYUCSNJZAEAQCARRAEBACAAHEU\" #@param {type:\"string\"}\n",
        "sample_decks['Rafalonso'] = \"CEBAIAIFB4WDANQIAEAQGDAUDAQSIJZUAIAQCBIFAEAQCBAA\" #@param {type:\"string\"}"
      ],
      "execution_count": 0,
      "outputs": []
    },
    {
      "cell_type": "code",
      "metadata": {
        "id": "hVXVAWcAr-p4",
        "colab_type": "code",
        "colab": {
          "base_uri": "https://localhost:8080/",
          "height": 68
        },
        "outputId": "b380302f-4d68-426f-9749-f7d66377e19d"
      },
      "source": [
        "from LoR_Decks.comparator.card_collection import player_full_collection\n",
        "\n",
        "russ_card_collection = player_full_collection(excel_file='russ_card_collection.xlsx')"
      ],
      "execution_count": 3,
      "outputs": [
        {
          "output_type": "stream",
          "text": [
            "I read your collection from the excel_file: russ_card_collection.xlsx\n",
            "\n",
            "\n"
          ],
          "name": "stdout"
        }
      ]
    },
    {
      "cell_type": "code",
      "metadata": {
        "id": "19BPTjCksF0h",
        "colab_type": "code",
        "colab": {
          "base_uri": "https://localhost:8080/",
          "height": 598
        },
        "outputId": "6c053e70-7ebe-4081-f5ec-20bc49ba16c8"
      },
      "source": [
        "for key, value in sample_decks.items():\n",
        "    try:\n",
        "        missing_cards,expected_cost = russ_card_collection.deck_comparator(sample_code=sample_decks[key])\n",
        "        print(f'The cost of building {key} is {expected_cost}')\n",
        "        print(f'You will need: {missing_cards}\\n')\n",
        "    except Exception:\n",
        "        print(f'It appears that the deck code for {key} is incorrect\\n')"
      ],
      "execution_count": 4,
      "outputs": [
        {
          "output_type": "stream",
          "text": [
            "The cost of building Kinkou Elusives is 6600\n",
            "You will need: {'01FR004': {'name': 'ELIXIR OF IRON', 'rarity': 'Common', 'missing_quantity': 3}, '01FR022': {'name': 'OMEN HAWK', 'rarity': 'Common', 'missing_quantity': 1}, '01IO002': {'name': 'WILL OF IONIA', 'rarity': 'Common', 'missing_quantity': 1}, '01IO006': {'name': 'GREENGLADE DUO', 'rarity': 'Rare', 'missing_quantity': 1}, '01IO017': {'name': 'NAVORI BLADESCOUT', 'rarity': 'Common', 'missing_quantity': 2}, '01IO021': {'name': 'WINDFARER HATCHLING', 'rarity': 'Epic', 'missing_quantity': 3}, '01IO023': {'name': 'JEWELED PROTECTOR', 'rarity': 'Rare', 'missing_quantity': 2}, '01IO040': {'name': 'KINKOU LIFEBLADE', 'rarity': 'Common', 'missing_quantity': 3}, '01IO044': {'name': 'NAVORI CONSPIRATOR', 'rarity': 'Common', 'missing_quantity': 2}, '01IO050': {'name': 'KINKOU WAYFINDER', 'rarity': 'Rare', 'missing_quantity': 3}}\n",
            "\n",
            "The cost of building Spider Aggro is 6200\n",
            "You will need: {'01SI022': {'name': 'MARK OF THE ISLES', 'rarity': 'Common', 'missing_quantity': 3}, '01SI053': {'name': 'ELISE', 'rarity': 'Champion', 'missing_quantity': 1}, '01SI056': {'name': 'FRENZIED SKITTERER', 'rarity': 'Rare', 'missing_quantity': 3}, '01NX007': {'name': 'ARENA BATTLECASTER', 'rarity': 'Rare', 'missing_quantity': 3}, '01NX009': {'name': 'CROWD FAVORITE', 'rarity': 'Rare', 'missing_quantity': 1}, '01NX012': {'name': 'LEGION REARGUARD', 'rarity': 'Common', 'missing_quantity': 1}, '01NX025': {'name': \"BROTHERS' BOND\", 'rarity': 'Common', 'missing_quantity': 2}, '01NX040': {'name': 'LEGION SABOTEUR', 'rarity': 'Common', 'missing_quantity': 3}, '01NX055': {'name': 'HOUSE SPIDER', 'rarity': 'Common', 'missing_quantity': 1}, '01SI036': {'name': 'CRAWLING SENSATION', 'rarity': 'Common', 'missing_quantity': 1}}\n",
            "\n",
            "The cost of building Mageseeker Lux is 20500\n",
            "You will need: {'01PZ014': {'name': 'UNLICENSED INNOVATION', 'rarity': 'Common', 'missing_quantity': 3}, '01PZ016': {'name': 'FLASH OF BRILLIANCE', 'rarity': 'Common', 'missing_quantity': 2}, '01PZ027': {'name': 'THERMOGENIC BEAM', 'rarity': 'Rare', 'missing_quantity': 1}, '01PZ031': {'name': 'STATIKK SHOCK', 'rarity': 'Rare', 'missing_quantity': 3}, '01PZ052': {'name': 'MYSTIC SHOT', 'rarity': 'Common', 'missing_quantity': 1}, '01PZ056': {'name': 'HEIMERDINGER', 'rarity': 'Champion', 'missing_quantity': 3}, '01DE026': {'name': 'SINGLE COMBAT', 'rarity': 'Common', 'missing_quantity': 1}, '01DE032': {'name': 'PRISMATIC BARRIER', 'rarity': 'Common', 'missing_quantity': 3}, '01DE033': {'name': 'REMEMBRANCE', 'rarity': 'Rare', 'missing_quantity': 3}, '01DE040': {'name': 'MAGESEEKER PERSUADER', 'rarity': 'Rare', 'missing_quantity': 3}, '01DE042': {'name': 'LUX', 'rarity': 'Champion', 'missing_quantity': 2}, '01DE047': {'name': 'SUCCESSION', 'rarity': 'Common', 'missing_quantity': 3}, '01DE048': {'name': 'MAGESEEKER INCITER', 'rarity': 'Rare', 'missing_quantity': 3}, '01DE041': {'name': 'BACK TO BACK', 'rarity': 'Rare', 'missing_quantity': 1}}\n",
            "\n",
            "The cost of building Bannerman Zed is 12100\n",
            "You will need: {'01DE001': {'name': 'VANGUARD BANNERMAN', 'rarity': 'Rare', 'missing_quantity': 3}, '01DE009': {'name': 'BRIGHTSTEEL PROTECTOR', 'rarity': 'Common', 'missing_quantity': 3}, '01DE010': {'name': 'SWIFTWING LANCER', 'rarity': 'Rare', 'missing_quantity': 3}, '01DE021': {'name': 'RELENTLESS PURSUIT', 'rarity': 'Common', 'missing_quantity': 3}, '01DE022': {'name': 'LUCIAN', 'rarity': 'Champion', 'missing_quantity': 3}, '01DE026': {'name': 'SINGLE COMBAT', 'rarity': 'Common', 'missing_quantity': 1}, '01DE029': {'name': 'FLEETFEATHER TRACKER', 'rarity': 'Common', 'missing_quantity': 1}, '01DE039': {'name': 'CITHRIA OF CLOUDFIELD', 'rarity': 'Common', 'missing_quantity': 1}, '01DE043': {'name': 'WAR CHEFS', 'rarity': 'Common', 'missing_quantity': 3}, '01DE050': {'name': 'PURIFY', 'rarity': 'Common', 'missing_quantity': 1}}\n",
            "\n",
            "The cost of building Spooky Karma is 13500\n",
            "You will need: {'01SI004': {'name': 'DARKWATER SCOURGE', 'rarity': 'Common', 'missing_quantity': 3}, '01SI029': {'name': 'WITHERING WAIL', 'rarity': 'Common', 'missing_quantity': 1}, '01SI040': {'name': 'VILE FEAST', 'rarity': 'Common', 'missing_quantity': 1}, '01SI046': {'name': \"MIST'S CALL\", 'rarity': 'Common', 'missing_quantity': 3}, '01SI054': {'name': 'GRASP OF THE UNDYING', 'rarity': 'Common', 'missing_quantity': 1}, '01IO002': {'name': 'WILL OF IONIA', 'rarity': 'Common', 'missing_quantity': 1}, '01IO003': {'name': 'DEATH MARK', 'rarity': 'Rare', 'missing_quantity': 2}, '01IO041': {'name': 'KARMA', 'rarity': 'Champion', 'missing_quantity': 3}, '01IO053': {'name': 'EMERALD AWAKENER', 'rarity': 'Common', 'missing_quantity': 2}, '01SI020': {'name': 'THE REKINDLER', 'rarity': 'Rare', 'missing_quantity': 2}, '01SI056': {'name': 'FRENZIED SKITTERER', 'rarity': 'Rare', 'missing_quantity': 2}, '01SI003': {'name': 'THE HARROWING', 'rarity': 'Epic', 'missing_quantity': 1}, '01SI019': {'name': 'THE BOX', 'rarity': 'Rare', 'missing_quantity': 1}}\n",
            "\n",
            "The cost of building Ephemeral Midrange is 12200\n",
            "You will need: {'01IO003': {'name': 'DEATH MARK', 'rarity': 'Rare', 'missing_quantity': 2}, '01SI004': {'name': 'DARKWATER SCOURGE', 'rarity': 'Common', 'missing_quantity': 3}, '01SI020': {'name': 'THE REKINDLER', 'rarity': 'Rare', 'missing_quantity': 3}, '01SI022': {'name': 'MARK OF THE ISLES', 'rarity': 'Common', 'missing_quantity': 3}, '01SI042': {'name': 'HECARIM', 'rarity': 'Champion', 'missing_quantity': 3}, '01SI048': {'name': 'CURSED KEEPER', 'rarity': 'Common', 'missing_quantity': 1}, '01SI012': {'name': 'OBLIVIOUS ISLANDER', 'rarity': 'Common', 'missing_quantity': 1}, '01SI056': {'name': 'FRENZIED SKITTERER', 'rarity': 'Rare', 'missing_quantity': 2}, '01IO024': {'name': 'DAWN AND DUSK', 'rarity': 'Rare', 'missing_quantity': 1}}\n",
            "\n",
            "The cost of building Ezreal Combo is 16700\n",
            "You will need: {'01FR003': {'name': 'AVAROSAN SENTRY', 'rarity': 'Common', 'missing_quantity': 3}, '01FR008': {'name': 'LONELY PORO', 'rarity': 'Common', 'missing_quantity': 1}, '01FR011': {'name': 'ICEVALE ARCHER', 'rarity': 'Common', 'missing_quantity': 3}, '01FR030': {'name': 'BRITTLE STEEL', 'rarity': 'Common', 'missing_quantity': 3}, '01FR042': {'name': 'HARSH WINDS', 'rarity': 'Rare', 'missing_quantity': 3}, '01PZ027': {'name': 'THERMOGENIC BEAM', 'rarity': 'Rare', 'missing_quantity': 1}, '01PZ031': {'name': 'STATIKK SHOCK', 'rarity': 'Rare', 'missing_quantity': 3}, '01PZ036': {'name': 'EZREAL', 'rarity': 'Champion', 'missing_quantity': 3}, '01PZ043': {'name': 'CHEMPUNK PICKPOCKET', 'rarity': 'Rare', 'missing_quantity': 3}, '01PZ049': {'name': 'PROGRESS DAY!', 'rarity': 'Epic', 'missing_quantity': 2}, '01PZ052': {'name': 'MYSTIC SHOT', 'rarity': 'Common', 'missing_quantity': 1}, '01PZ058': {'name': 'CHUMP WHUMP', 'rarity': 'Rare', 'missing_quantity': 3}, '01FR025': {'name': 'PORO HERDER', 'rarity': 'Rare', 'missing_quantity': 1}}\n",
            "\n",
            "The cost of building Discard Aggro is 15600\n",
            "You will need: {'01NX012': {'name': 'LEGION REARGUARD', 'rarity': 'Common', 'missing_quantity': 1}, '01NX020': {'name': 'DRAVEN', 'rarity': 'Champion', 'missing_quantity': 3}, '01NX039': {'name': 'VISION', 'rarity': 'Rare', 'missing_quantity': 2}, '01PZ012': {'name': 'FLAME CHOMPERS!', 'rarity': 'Common', 'missing_quantity': 3}, '01PZ039': {'name': 'GET EXCITED!', 'rarity': 'Rare', 'missing_quantity': 1}, '01PZ040': {'name': 'JINX', 'rarity': 'Champion', 'missing_quantity': 1}, '01PZ045': {'name': 'ZAUNITE URCHIN', 'rarity': 'Common', 'missing_quantity': 2}, '01PZ052': {'name': 'MYSTIC SHOT', 'rarity': 'Common', 'missing_quantity': 1}, '01PZ054': {'name': 'BOOMCREW ROOKIE', 'rarity': 'Common', 'missing_quantity': 3}, '01NX025': {'name': \"BROTHERS' BOND\", 'rarity': 'Common', 'missing_quantity': 1}, '01PZ001': {'name': 'RUMMAGE', 'rarity': 'Common', 'missing_quantity': 1}, '01PZ013': {'name': 'AUGMENTED EXPERIMENTER', 'rarity': 'Epic', 'missing_quantity': 1}, '01PZ038': {'name': 'SUMP DREDGER', 'rarity': 'Common', 'missing_quantity': 2}, '01NX040': {'name': 'LEGION SABOTEUR', 'rarity': 'Common', 'missing_quantity': 1}}\n",
            "\n",
            "The cost of building Kalista Lucian Midrange is 20700\n",
            "You will need: {'01DE015': {'name': 'RADIANT GUARDIAN', 'rarity': 'Rare', 'missing_quantity': 3}, '01DE022': {'name': 'LUCIAN', 'rarity': 'Champion', 'missing_quantity': 3}, '01DE026': {'name': 'SINGLE COMBAT', 'rarity': 'Common', 'missing_quantity': 1}, '01DE054': {'name': 'VANGUARD REDEEMER', 'rarity': 'Common', 'missing_quantity': 3}, '01SI030': {'name': 'KALISTA', 'rarity': 'Champion', 'missing_quantity': 2}, '01SI032': {'name': 'CHRONICLER OF RUIN', 'rarity': 'Common', 'missing_quantity': 3}, '01SI040': {'name': 'VILE FEAST', 'rarity': 'Common', 'missing_quantity': 1}, '01SI041': {'name': 'THE UNDYING', 'rarity': 'Epic', 'missing_quantity': 1}, '01SI048': {'name': 'CURSED KEEPER', 'rarity': 'Common', 'missing_quantity': 1}, '01SI056': {'name': 'FRENZIED SKITTERER', 'rarity': 'Rare', 'missing_quantity': 3}, '01SI011': {'name': 'RAVENOUS BUTCHER', 'rarity': 'Common', 'missing_quantity': 2}, '01SI022': {'name': 'MARK OF THE ISLES', 'rarity': 'Common', 'missing_quantity': 1}, '01SI025': {'name': 'ATROCITY', 'rarity': 'Rare', 'missing_quantity': 1}, '01SI033': {'name': 'COMMANDER LEDROS', 'rarity': 'Epic', 'missing_quantity': 1}}\n",
            "\n",
            "The cost of building Lux Control is 18300\n",
            "You will need: {'01DE017': {'name': 'STAND ALONE', 'rarity': 'Rare', 'missing_quantity': 3}, '01DE021': {'name': 'RELENTLESS PURSUIT', 'rarity': 'Common', 'missing_quantity': 3}, '01DE032': {'name': 'PRISMATIC BARRIER', 'rarity': 'Common', 'missing_quantity': 3}, '01DE042': {'name': 'LUX', 'rarity': 'Champion', 'missing_quantity': 2}, '01IO002': {'name': 'WILL OF IONIA', 'rarity': 'Common', 'missing_quantity': 1}, '01IO037': {'name': \"SPIRIT'S REFUGE\", 'rarity': 'Common', 'missing_quantity': 3}, '01IO038': {'name': 'SOLITARY MONK', 'rarity': 'Rare', 'missing_quantity': 2}, '01IO040': {'name': 'KINKOU LIFEBLADE', 'rarity': 'Common', 'missing_quantity': 3}, '01IO041': {'name': 'KARMA', 'rarity': 'Champion', 'missing_quantity': 3}, '01IO053': {'name': 'EMERALD AWAKENER', 'rarity': 'Common', 'missing_quantity': 2}, '01DE037': {'name': 'RIPOSTE', 'rarity': 'Rare', 'missing_quantity': 1}}\n",
            "\n",
            "The cost of building Rafalonso is 24700\n",
            "You will need: {'01SI015': {'name': 'THE RUINATION', 'rarity': 'Epic', 'missing_quantity': 1}, '01SI044': {'name': 'SPECTRAL MATRON', 'rarity': 'Epic', 'missing_quantity': 3}, '01SI048': {'name': 'CURSED KEEPER', 'rarity': 'Common', 'missing_quantity': 1}, '01SI054': {'name': 'GRASP OF THE UNDYING', 'rarity': 'Common', 'missing_quantity': 1}, '01FR003': {'name': 'AVAROSAN SENTRY', 'rarity': 'Common', 'missing_quantity': 3}, '01FR012': {'name': 'CATALYST OF AEONS', 'rarity': 'Common', 'missing_quantity': 3}, '01FR024': {'name': 'ANIVIA', 'rarity': 'Champion', 'missing_quantity': 3}, '01FR039': {'name': 'TRYNDAMERE', 'rarity': 'Champion', 'missing_quantity': 2}, '01FR052': {'name': 'SHE WHO WANDERS', 'rarity': 'Epic', 'missing_quantity': 3}, '01SI005': {'name': 'SCUTTLEGEIST', 'rarity': 'Rare', 'missing_quantity': 1}, '01FR004': {'name': 'ELIXIR OF IRON', 'rarity': 'Common', 'missing_quantity': 2}}\n",
            "\n"
          ],
          "name": "stdout"
        }
      ]
    }
  ]
}