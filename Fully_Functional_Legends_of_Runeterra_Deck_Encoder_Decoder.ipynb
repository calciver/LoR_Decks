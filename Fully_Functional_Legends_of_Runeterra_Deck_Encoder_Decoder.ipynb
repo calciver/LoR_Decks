{
  "nbformat": 4,
  "nbformat_minor": 0,
  "metadata": {
    "colab": {
      "name": "Fully Functional Legends of Runeterra Deck Encoder/Decoder.ipynb",
      "provenance": [],
      "authorship_tag": "ABX9TyOUvdl0oBMAplHKOEYlRcml",
      "include_colab_link": true
    },
    "kernelspec": {
      "name": "python3",
      "display_name": "Python 3"
    }
  },
  "cells": [
    {
      "cell_type": "markdown",
      "metadata": {
        "id": "view-in-github",
        "colab_type": "text"
      },
      "source": [
        "<a href=\"https://colab.research.google.com/github/calciver/LoR_Decks/blob/master/Fully_Functional_Legends_of_Runeterra_Deck_Encoder_Decoder.ipynb\" target=\"_parent\"><img src=\"https://colab.research.google.com/assets/colab-badge.svg\" alt=\"Open In Colab\"/></a>"
      ]
    },
    {
      "cell_type": "code",
      "metadata": {
        "id": "cixzjbiOrsRL",
        "colab_type": "code",
        "colab": {
          "base_uri": "https://localhost:8080/",
          "height": 119
        },
        "outputId": "56f6b974-5c9f-43a2-b42c-36aba0c6f88e"
      },
      "source": [
        "!git clone https://github.com/calciver/LoR_Decks.git"
      ],
      "execution_count": 1,
      "outputs": [
        {
          "output_type": "stream",
          "text": [
            "Cloning into 'LoR_Decks'...\n",
            "remote: Enumerating objects: 43, done.\u001b[K\n",
            "remote: Counting objects: 100% (43/43), done.\u001b[K\n",
            "remote: Compressing objects: 100% (33/33), done.\u001b[K\n",
            "remote: Total 43 (delta 9), reused 33 (delta 5), pack-reused 0\u001b[K\n",
            "Unpacking objects: 100% (43/43), done.\n"
          ],
          "name": "stdout"
        }
      ]
    },
    {
      "cell_type": "markdown",
      "metadata": {
        "id": "yWscwfrlr24C",
        "colab_type": "text"
      },
      "source": [
        "# What decks do you want to build today?"
      ]
    },
    {
      "cell_type": "code",
      "metadata": {
        "id": "GYLD6DoTrvWf",
        "colab_type": "code",
        "colab": {}
      },
      "source": [
        "sample_decks = {}\n",
        "sample_decks['Kinkou Elusives'] = \"CEBAEAIBAQLAWAICAIDASDARCULSQLBSHEAACAIBAIYQ\" #@param {type:\"string\"}\n",
        "sample_decks['Spider Aggro'] = \"CEBAIAIFCYYTKOAHAEBQOCIMB4MSQNYCAEAQKJACAEBRWJQBAEAQGAQ\" #@param {type:\"string\"}\n",
        "sample_decks['Mageseeker Lux'] = \"CEBAMAIEBYIBWHZUHADQCAA2EAQSQKRPGAAACAIBAAUQ\" #@param {type:\"string\"}\n",
        "sample_decks['Bannerman Zed'] = \"CEBACAICBEGACAABAYEQUCYVCYNB2JZLGIAACAIBAAJA\" #@param {type:\"string\"}\n",
        "sample_decks['Spooky Karma'] = \"CEBAKAIFAQOSQLRWAUAQEAQDFE2TSAQBAEBDCAYBAUHRIOABAIAQKAYT\" #@param {type:\"string\"}\n",
        "sample_decks['Ephemeral Midrange'] = \"CEBAGAICAMETSBQBAUCBIFRKGAYQEAYBAUGCQOADAEBAEBQYAEAQCARR\" #@param {type:\"string\"}\n",
        "sample_decks['Ezreal Combo'] = \"CEBAKAIBAMEAWHRKA4AQIGY7EQVTCNB2AEAQCAJEAIAQCBABAEAQCGI\" #@param {type:\"string\"}\n",
        "sample_decks['Discard Aggro'] = \"CEBAGAIDBQKCOBYBAQGBYJZIFU2DMAQBAEBRSAYBAQAQ2JQBAIAQGEZI\" #@param {type:\"string\"}\n",
        "sample_decks['Kalista Lucian Midrange'] = \"CEBAIAIAB4LBUNQHAECR4IBIFEYDCOABAIAQKCYPAEBQCBIWDEQQ\" #@param {type:\"string\"}\n",
        "sample_decks['Lux Control'] = \"CEBAIAIACEKSAKQIAEBAEDBFEYUCSNJZAEAQCARRAEBACAAHEU\" #@param {type:\"string\"}\n",
        "sample_decks['Rafalonso'] = \"CEBAIAIFB4WDANQIAEAQGDAUDAQSIJZUAIAQCBIFAEAQCBAA\" #@param {type:\"string\"}"
      ],
      "execution_count": 0,
      "outputs": []
    },
    {
      "cell_type": "code",
      "metadata": {
        "id": "hVXVAWcAr-p4",
        "colab_type": "code",
        "colab": {
          "base_uri": "https://localhost:8080/",
          "height": 68
        },
        "outputId": "5c7fe0cf-ed9d-488d-b51d-ec8848b8c165"
      },
      "source": [
        "from LoR_Decks.comparator.card_collection import player_full_collection\n",
        "\n",
        "russ_card_collection = player_full_collection(excel_file='russ_card_collection.xlsx')"
      ],
      "execution_count": 3,
      "outputs": [
        {
          "output_type": "stream",
          "text": [
            "I read your collection from the excel_file: russ_card_collection.xlsx\n",
            "\n",
            "\n"
          ],
          "name": "stdout"
        }
      ]
    },
    {
      "cell_type": "code",
      "metadata": {
        "id": "19BPTjCksF0h",
        "colab_type": "code",
        "colab": {
          "base_uri": "https://localhost:8080/",
          "height": 598
        },
        "outputId": "e5872db2-4f2b-4c7c-ca86-22469ef71b4b"
      },
      "source": [
        "for key, value in sample_decks.items():\n",
        "    try:\n",
        "        missing_cards,expected_cost = russ_card_collection.deck_comparator(sample_code=sample_decks[key])\n",
        "        print(f'The cost of building {key} is {expected_cost}')\n",
        "        print(f'You will need: {missing_cards}\\n')\n",
        "    except Exception:\n",
        "        print(f'It appears that the deck code for {key} is incorrect\\n')"
      ],
      "execution_count": 4,
      "outputs": [
        {
          "output_type": "stream",
          "text": [
            "The cost of building Kinkou Elusives is 6300\n",
            "You will need: {'01FR004': {'name': 'ELIXIR OF IRON', 'rarity': 'Common', 'missing_quantity': 3}, '01FR022': {'name': 'OMEN HAWK', 'rarity': 'Common', 'missing_quantity': 1}, '01IO002': {'name': 'WILL OF IONIA', 'rarity': 'Common', 'missing_quantity': 1}, '01IO006': {'name': 'GREENGLADE DUO', 'rarity': 'Rare', 'missing_quantity': 1}, '01IO017': {'name': 'NAVORI BLADESCOUT', 'rarity': 'Common', 'missing_quantity': 2}, '01IO021': {'name': 'WINDFARER HATCHLING', 'rarity': 'Epic', 'missing_quantity': 3}, '01IO023': {'name': 'JEWELED PROTECTOR', 'rarity': 'Rare', 'missing_quantity': 2}, '01IO040': {'name': 'KINKOU LIFEBLADE', 'rarity': 'Common', 'missing_quantity': 3}, '01IO044': {'name': 'NAVORI CONSPIRATOR', 'rarity': 'Common', 'missing_quantity': 2}, '01IO050': {'name': 'KINKOU WAYFINDER', 'rarity': 'Rare', 'missing_quantity': 3}, '01IO049': {'name': 'DENY', 'rarity': 'Rare', 'missing_quantity': -1}}\n",
            "\n",
            "The cost of building Spider Aggro is 6100\n",
            "You will need: {'01SI022': {'name': 'MARK OF THE ISLES', 'rarity': 'Common', 'missing_quantity': 3}, '01SI053': {'name': 'ELISE', 'rarity': 'Champion', 'missing_quantity': 1}, '01SI056': {'name': 'FRENZIED SKITTERER', 'rarity': 'Rare', 'missing_quantity': 3}, '01NX007': {'name': 'ARENA BATTLECASTER', 'rarity': 'Rare', 'missing_quantity': 3}, '01NX009': {'name': 'CROWD FAVORITE', 'rarity': 'Rare', 'missing_quantity': 1}, '01NX012': {'name': 'LEGION REARGUARD', 'rarity': 'Common', 'missing_quantity': 1}, '01NX025': {'name': \"BROTHERS' BOND\", 'rarity': 'Common', 'missing_quantity': 2}, '01NX040': {'name': 'LEGION SABOTEUR', 'rarity': 'Common', 'missing_quantity': 3}, '01NX055': {'name': 'HOUSE SPIDER', 'rarity': 'Common', 'missing_quantity': 1}, '01SI036': {'name': 'CRAWLING SENSATION', 'rarity': 'Common', 'missing_quantity': 1}, '01NX027': {'name': 'ELIXIR OF WRATH', 'rarity': 'Common', 'missing_quantity': -1}}\n",
            "\n",
            "The cost of building Mageseeker Lux is 20500\n",
            "You will need: {'01PZ014': {'name': 'UNLICENSED INNOVATION', 'rarity': 'Common', 'missing_quantity': 3}, '01PZ016': {'name': 'FLASH OF BRILLIANCE', 'rarity': 'Common', 'missing_quantity': 2}, '01PZ027': {'name': 'THERMOGENIC BEAM', 'rarity': 'Rare', 'missing_quantity': 1}, '01PZ031': {'name': 'STATIKK SHOCK', 'rarity': 'Rare', 'missing_quantity': 3}, '01PZ052': {'name': 'MYSTIC SHOT', 'rarity': 'Common', 'missing_quantity': 1}, '01PZ056': {'name': 'HEIMERDINGER', 'rarity': 'Champion', 'missing_quantity': 3}, '01DE026': {'name': 'SINGLE COMBAT', 'rarity': 'Common', 'missing_quantity': 1}, '01DE032': {'name': 'PRISMATIC BARRIER', 'rarity': 'Common', 'missing_quantity': 3}, '01DE033': {'name': 'REMEMBRANCE', 'rarity': 'Rare', 'missing_quantity': 3}, '01DE040': {'name': 'MAGESEEKER PERSUADER', 'rarity': 'Rare', 'missing_quantity': 3}, '01DE042': {'name': 'LUX', 'rarity': 'Champion', 'missing_quantity': 2}, '01DE047': {'name': 'SUCCESSION', 'rarity': 'Common', 'missing_quantity': 3}, '01DE048': {'name': 'MAGESEEKER INCITER', 'rarity': 'Rare', 'missing_quantity': 3}, '01DE041': {'name': 'BACK TO BACK', 'rarity': 'Rare', 'missing_quantity': 1}}\n",
            "\n",
            "The cost of building Bannerman Zed is 11900\n",
            "You will need: {'01DE001': {'name': 'VANGUARD BANNERMAN', 'rarity': 'Rare', 'missing_quantity': 3}, '01DE009': {'name': 'BRIGHTSTEEL PROTECTOR', 'rarity': 'Common', 'missing_quantity': 3}, '01DE010': {'name': 'SWIFTWING LANCER', 'rarity': 'Rare', 'missing_quantity': 3}, '01DE021': {'name': 'RELENTLESS PURSUIT', 'rarity': 'Common', 'missing_quantity': 3}, '01DE022': {'name': 'LUCIAN', 'rarity': 'Champion', 'missing_quantity': 3}, '01DE026': {'name': 'SINGLE COMBAT', 'rarity': 'Common', 'missing_quantity': 1}, '01DE029': {'name': 'FLEETFEATHER TRACKER', 'rarity': 'Common', 'missing_quantity': 1}, '01DE039': {'name': 'CITHRIA OF CLOUDFIELD', 'rarity': 'Common', 'missing_quantity': 1}, '01DE043': {'name': 'WAR CHEFS', 'rarity': 'Common', 'missing_quantity': 3}, '01DE050': {'name': 'PURIFY', 'rarity': 'Common', 'missing_quantity': 1}, '01DE018': {'name': 'RADIANT STRIKE', 'rarity': 'Common', 'missing_quantity': -2}}\n",
            "\n",
            "The cost of building Spooky Karma is 13500\n",
            "You will need: {'01SI004': {'name': 'DARKWATER SCOURGE', 'rarity': 'Common', 'missing_quantity': 3}, '01SI029': {'name': 'WITHERING WAIL', 'rarity': 'Common', 'missing_quantity': 1}, '01SI040': {'name': 'VILE FEAST', 'rarity': 'Common', 'missing_quantity': 1}, '01SI046': {'name': \"MIST'S CALL\", 'rarity': 'Common', 'missing_quantity': 3}, '01SI054': {'name': 'GRASP OF THE UNDYING', 'rarity': 'Common', 'missing_quantity': 1}, '01IO002': {'name': 'WILL OF IONIA', 'rarity': 'Common', 'missing_quantity': 1}, '01IO003': {'name': 'DEATH MARK', 'rarity': 'Rare', 'missing_quantity': 2}, '01IO041': {'name': 'KARMA', 'rarity': 'Champion', 'missing_quantity': 3}, '01IO053': {'name': 'EMERALD AWAKENER', 'rarity': 'Common', 'missing_quantity': 2}, '01SI020': {'name': 'THE REKINDLER', 'rarity': 'Rare', 'missing_quantity': 2}, '01SI056': {'name': 'FRENZIED SKITTERER', 'rarity': 'Rare', 'missing_quantity': 2}, '01SI003': {'name': 'THE HARROWING', 'rarity': 'Epic', 'missing_quantity': 1}, '01SI019': {'name': 'THE BOX', 'rarity': 'Rare', 'missing_quantity': 1}}\n",
            "\n",
            "The cost of building Ephemeral Midrange is 11900\n",
            "You will need: {'01IO003': {'name': 'DEATH MARK', 'rarity': 'Rare', 'missing_quantity': 2}, '01SI004': {'name': 'DARKWATER SCOURGE', 'rarity': 'Common', 'missing_quantity': 3}, '01SI020': {'name': 'THE REKINDLER', 'rarity': 'Rare', 'missing_quantity': 3}, '01SI022': {'name': 'MARK OF THE ISLES', 'rarity': 'Common', 'missing_quantity': 3}, '01SI042': {'name': 'HECARIM', 'rarity': 'Champion', 'missing_quantity': 3}, '01SI048': {'name': 'CURSED KEEPER', 'rarity': 'Common', 'missing_quantity': 1}, '01SI012': {'name': 'OBLIVIOUS ISLANDER', 'rarity': 'Common', 'missing_quantity': 1}, '01SI056': {'name': 'FRENZIED SKITTERER', 'rarity': 'Rare', 'missing_quantity': 2}, '01IO024': {'name': 'DAWN AND DUSK', 'rarity': 'Rare', 'missing_quantity': 1}, '01IO049': {'name': 'DENY', 'rarity': 'Rare', 'missing_quantity': -1}}\n",
            "\n",
            "The cost of building Ezreal Combo is 16600\n",
            "You will need: {'01FR003': {'name': 'AVAROSAN SENTRY', 'rarity': 'Common', 'missing_quantity': 3}, '01FR008': {'name': 'LONELY PORO', 'rarity': 'Common', 'missing_quantity': 1}, '01FR011': {'name': 'ICEVALE ARCHER', 'rarity': 'Common', 'missing_quantity': 3}, '01FR030': {'name': 'BRITTLE STEEL', 'rarity': 'Common', 'missing_quantity': 3}, '01FR042': {'name': 'HARSH WINDS', 'rarity': 'Rare', 'missing_quantity': 3}, '01PZ027': {'name': 'THERMOGENIC BEAM', 'rarity': 'Rare', 'missing_quantity': 1}, '01PZ031': {'name': 'STATIKK SHOCK', 'rarity': 'Rare', 'missing_quantity': 3}, '01PZ036': {'name': 'EZREAL', 'rarity': 'Champion', 'missing_quantity': 3}, '01PZ043': {'name': 'CHEMPUNK PICKPOCKET', 'rarity': 'Rare', 'missing_quantity': 3}, '01PZ049': {'name': 'PROGRESS DAY!', 'rarity': 'Epic', 'missing_quantity': 2}, '01PZ052': {'name': 'MYSTIC SHOT', 'rarity': 'Common', 'missing_quantity': 1}, '01PZ058': {'name': 'CHUMP WHUMP', 'rarity': 'Rare', 'missing_quantity': 3}, '01FR036': {'name': 'AVAROSAN MARKSMAN', 'rarity': 'Common', 'missing_quantity': -1}, '01FR025': {'name': 'PORO HERDER', 'rarity': 'Rare', 'missing_quantity': 1}}\n",
            "\n",
            "The cost of building Discard Aggro is 15500\n",
            "You will need: {'01NX012': {'name': 'LEGION REARGUARD', 'rarity': 'Common', 'missing_quantity': 1}, '01NX020': {'name': 'DRAVEN', 'rarity': 'Champion', 'missing_quantity': 3}, '01NX039': {'name': 'VISION', 'rarity': 'Rare', 'missing_quantity': 2}, '01PZ012': {'name': 'FLAME CHOMPERS!', 'rarity': 'Common', 'missing_quantity': 3}, '01PZ039': {'name': 'GET EXCITED!', 'rarity': 'Rare', 'missing_quantity': 1}, '01PZ040': {'name': 'JINX', 'rarity': 'Champion', 'missing_quantity': 1}, '01PZ045': {'name': 'ZAUNITE URCHIN', 'rarity': 'Common', 'missing_quantity': 2}, '01PZ052': {'name': 'MYSTIC SHOT', 'rarity': 'Common', 'missing_quantity': 1}, '01PZ054': {'name': 'BOOMCREW ROOKIE', 'rarity': 'Common', 'missing_quantity': 3}, '01NX025': {'name': \"BROTHERS' BOND\", 'rarity': 'Common', 'missing_quantity': 1}, '01PZ001': {'name': 'RUMMAGE', 'rarity': 'Common', 'missing_quantity': 1}, '01PZ013': {'name': 'AUGMENTED EXPERIMENTER', 'rarity': 'Epic', 'missing_quantity': 1}, '01PZ038': {'name': 'SUMP DREDGER', 'rarity': 'Common', 'missing_quantity': 2}, '01NX019': {'name': 'MIGHT', 'rarity': 'Common', 'missing_quantity': -1}, '01NX040': {'name': 'LEGION SABOTEUR', 'rarity': 'Common', 'missing_quantity': 1}}\n",
            "\n",
            "The cost of building Kalista Lucian Midrange is 20700\n",
            "You will need: {'01DE015': {'name': 'RADIANT GUARDIAN', 'rarity': 'Rare', 'missing_quantity': 3}, '01DE022': {'name': 'LUCIAN', 'rarity': 'Champion', 'missing_quantity': 3}, '01DE026': {'name': 'SINGLE COMBAT', 'rarity': 'Common', 'missing_quantity': 1}, '01DE054': {'name': 'VANGUARD REDEEMER', 'rarity': 'Common', 'missing_quantity': 3}, '01SI030': {'name': 'KALISTA', 'rarity': 'Champion', 'missing_quantity': 2}, '01SI032': {'name': 'CHRONICLER OF RUIN', 'rarity': 'Common', 'missing_quantity': 3}, '01SI040': {'name': 'VILE FEAST', 'rarity': 'Common', 'missing_quantity': 1}, '01SI041': {'name': 'THE UNDYING', 'rarity': 'Epic', 'missing_quantity': 1}, '01SI048': {'name': 'CURSED KEEPER', 'rarity': 'Common', 'missing_quantity': 1}, '01SI056': {'name': 'FRENZIED SKITTERER', 'rarity': 'Rare', 'missing_quantity': 3}, '01SI011': {'name': 'RAVENOUS BUTCHER', 'rarity': 'Common', 'missing_quantity': 2}, '01SI022': {'name': 'MARK OF THE ISLES', 'rarity': 'Common', 'missing_quantity': 1}, '01SI025': {'name': 'ATROCITY', 'rarity': 'Rare', 'missing_quantity': 1}, '01SI033': {'name': 'COMMANDER LEDROS', 'rarity': 'Epic', 'missing_quantity': 1}}\n",
            "\n",
            "The cost of building Lux Control is 18300\n",
            "You will need: {'01DE017': {'name': 'STAND ALONE', 'rarity': 'Rare', 'missing_quantity': 3}, '01DE021': {'name': 'RELENTLESS PURSUIT', 'rarity': 'Common', 'missing_quantity': 3}, '01DE032': {'name': 'PRISMATIC BARRIER', 'rarity': 'Common', 'missing_quantity': 3}, '01DE042': {'name': 'LUX', 'rarity': 'Champion', 'missing_quantity': 2}, '01IO002': {'name': 'WILL OF IONIA', 'rarity': 'Common', 'missing_quantity': 1}, '01IO037': {'name': \"SPIRIT'S REFUGE\", 'rarity': 'Common', 'missing_quantity': 3}, '01IO038': {'name': 'SOLITARY MONK', 'rarity': 'Rare', 'missing_quantity': 2}, '01IO040': {'name': 'KINKOU LIFEBLADE', 'rarity': 'Common', 'missing_quantity': 3}, '01IO041': {'name': 'KARMA', 'rarity': 'Champion', 'missing_quantity': 3}, '01IO053': {'name': 'EMERALD AWAKENER', 'rarity': 'Common', 'missing_quantity': 2}, '01DE037': {'name': 'RIPOSTE', 'rarity': 'Rare', 'missing_quantity': 1}}\n",
            "\n",
            "The cost of building Rafalonso is 24700\n",
            "You will need: {'01SI015': {'name': 'THE RUINATION', 'rarity': 'Epic', 'missing_quantity': 1}, '01SI044': {'name': 'SPECTRAL MATRON', 'rarity': 'Epic', 'missing_quantity': 3}, '01SI048': {'name': 'CURSED KEEPER', 'rarity': 'Common', 'missing_quantity': 1}, '01SI054': {'name': 'GRASP OF THE UNDYING', 'rarity': 'Common', 'missing_quantity': 1}, '01FR003': {'name': 'AVAROSAN SENTRY', 'rarity': 'Common', 'missing_quantity': 3}, '01FR012': {'name': 'CATALYST OF AEONS', 'rarity': 'Common', 'missing_quantity': 3}, '01FR024': {'name': 'ANIVIA', 'rarity': 'Champion', 'missing_quantity': 3}, '01FR039': {'name': 'TRYNDAMERE', 'rarity': 'Champion', 'missing_quantity': 2}, '01FR052': {'name': 'SHE WHO WANDERS', 'rarity': 'Epic', 'missing_quantity': 3}, '01SI005': {'name': 'SCUTTLEGEIST', 'rarity': 'Rare', 'missing_quantity': 1}, '01FR004': {'name': 'ELIXIR OF IRON', 'rarity': 'Common', 'missing_quantity': 2}}\n",
            "\n"
          ],
          "name": "stdout"
        }
      ]
    }
  ]
}